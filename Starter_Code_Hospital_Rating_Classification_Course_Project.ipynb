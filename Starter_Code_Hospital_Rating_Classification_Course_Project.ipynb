{
 "cells": [
  {
   "cell_type": "markdown",
   "id": "c93949b0",
   "metadata": {
    "id": "c93949b0"
   },
   "source": [
    "# HOSPITAL RATING CLASSIFICATION"
   ]
  },
  {
   "cell_type": "markdown",
   "id": "eed4a10a",
   "metadata": {
    "id": "eed4a10a"
   },
   "source": [
    "Welcome to the Starter Code for the Hospital Rating Classification Capstone Project!\n",
    "\n",
    "In this notebook you'll find \n",
    "- A blueprint on how to attempt the course project.\n",
    "- Additional hints and directions on different tasks\n",
    "\n",
    "Please note that this approach is one of the many approaches you can take for solving this Capstone project."
   ]
  },
  {
   "cell_type": "markdown",
   "id": "ff172262",
   "metadata": {
    "id": "ff172262"
   },
   "source": [
    "### Import the necessary libraries"
   ]
  },
  {
   "cell_type": "code",
   "execution_count": 18,
   "id": "ca3b4475",
   "metadata": {
    "id": "ca3b4475"
   },
   "outputs": [],
   "source": [
    "import pandas as pd, numpy as np\n",
    "import seaborn as sns\n",
    "\n",
    "from matplotlib import pyplot as plt\n",
    "from pandas.core.common import random_state\n",
    "\n",
    "from sklearn.model_selection import train_test_split\n",
    "from sklearn.preprocessing import StandardScaler\n",
    "from sklearn.model_selection import GridSearchCV\n",
    "from sklearn.metrics import f1_score, precision_score, recall_score, accuracy_score, mean_squared_error\n",
    "from sklearn.metrics import confusion_matrix, ConfusionMatrixDisplay\n",
    "from sklearn.neighbors import KNeighborsClassifier, KNeighborsRegressor\n",
    "\n",
    "from sklearn.linear_model import Lasso, LassoCV, LogisticRegression\n",
    "from sklearn.tree import DecisionTreeClassifier, DecisionTreeRegressor\n",
    "from sklearn import tree"
   ]
  },
  {
   "cell_type": "code",
   "execution_count": 19,
   "id": "78762d89",
   "metadata": {
    "id": "78762d89"
   },
   "outputs": [],
   "source": [
    "import warnings\n",
    "warnings.filterwarnings(\"ignore\")"
   ]
  },
  {
   "cell_type": "markdown",
   "id": "20ba5b76",
   "metadata": {
    "id": "20ba5b76"
   },
   "source": [
    "### Task 1 \n",
    "\n",
    "Task 1: Understand the data\n",
    "\n",
    " \n",
    "\n",
    "Take some time to familiarize yourself with the data. What are the key variables?\n",
    "\n",
    "Specifically, answer the following questions:\n",
    "\n",
    "- 1.1 - Perform a few basic data quality checks to understand the different columns and prepare descriptive statistics for some of the important columns.\n",
    "- 1.2 - What is the distribution of hospital overall ratings? How are they varying across other parameters like `State`? Create  a few visualizations that provide some insights into the data."
   ]
  },
  {
   "cell_type": "markdown",
   "id": "af44eec6",
   "metadata": {
    "id": "af44eec6"
   },
   "source": [
    "##### Task 1.1"
   ]
  },
  {
   "cell_type": "code",
   "execution_count": 20,
   "id": "efe2c9b1",
   "metadata": {
    "id": "efe2c9b1"
   },
   "outputs": [
    {
     "name": "stdout",
     "output_type": "stream",
     "text": [
      "Dataset Information:\n",
      "<class 'pandas.core.frame.DataFrame'>\n",
      "RangeIndex: 3057 entries, 0 to 3056\n",
      "Data columns (total 94 columns):\n",
      " #   Column                                                Non-Null Count  Dtype  \n",
      "---  ------                                                --------------  -----  \n",
      " 0   Provider ID                                           3057 non-null   int64  \n",
      " 1   Hospital Name                                         3057 non-null   object \n",
      " 2   Address                                               3057 non-null   object \n",
      " 3   City                                                  3057 non-null   object \n",
      " 4   State                                                 3057 non-null   object \n",
      " 5   ZIP Code                                              3057 non-null   int64  \n",
      " 6   County Name                                           3057 non-null   object \n",
      " 7   Phone Number                                          3057 non-null   int64  \n",
      " 8   Hospital Ownership                                    3057 non-null   object \n",
      " 9   Emergency Services                                    3057 non-null   object \n",
      " 10  Hospital overall rating                               3057 non-null   int64  \n",
      " 11  Mortality national comparison                         3057 non-null   int64  \n",
      " 12  Safety of care national comparison                    3057 non-null   int64  \n",
      " 13  Readmission national comparison                       3057 non-null   int64  \n",
      " 14  Patient experience national comparison                3057 non-null   int64  \n",
      " 15  Effectiveness of care national comparison             3057 non-null   int64  \n",
      " 16  Timeliness of care national comparison                3057 non-null   int64  \n",
      " 17  Efficient use of medical imaging national comparison  3057 non-null   int64  \n",
      " 18  MORT_30_AMI_Score                                     3057 non-null   float64\n",
      " 19  MORT_30_CABG_Score                                    3057 non-null   float64\n",
      " 20  MORT_30_COPD_Score                                    3057 non-null   float64\n",
      " 21  MORT_30_HF_Score                                      3057 non-null   float64\n",
      " 22  MORT_30_PN_Score                                      3057 non-null   float64\n",
      " 23  MORT_30_STK_Score                                     3057 non-null   float64\n",
      " 24  rating_group                                          3057 non-null   float64\n",
      " 25  READM_30_AMI_Score                                    3057 non-null   float64\n",
      " 26  READM_30_CABG_Score                                   3057 non-null   float64\n",
      " 27  READM_30_COPD_Score                                   3057 non-null   float64\n",
      " 28  READM_30_HF_Score                                     3057 non-null   float64\n",
      " 29  READM_30_HIP_KNEE_Score                               3057 non-null   float64\n",
      " 30  READM_30_HOSP_WIDE_Score                              3057 non-null   float64\n",
      " 31  READM_30_PN_Score                                     3057 non-null   float64\n",
      " 32  READM_30_STK_Score                                    3057 non-null   float64\n",
      " 33  TIME_OP_21_Score                                      3057 non-null   float64\n",
      " 34  TIME_OP_5_Score                                       3057 non-null   float64\n",
      " 35  EFF_EDV_Score                                         3057 non-null   float64\n",
      " 36  EFF_ED_1b_Score                                       3057 non-null   float64\n",
      " 37  EFF_ED_2b_Score                                       3057 non-null   float64\n",
      " 38  EFF_IMM_2_Score                                       3057 non-null   float64\n",
      " 39  EFF_IMM_3_OP_27_FAC_ADHPCT_Score                      3057 non-null   float64\n",
      " 40  EFF_OP_18b_Score                                      3057 non-null   float64\n",
      " 41  EFF_OP_20_Score                                       3057 non-null   float64\n",
      " 42  EFF_OP_22_Score                                       3057 non-null   float64\n",
      " 43  EFF_OP_29_Score                                       3057 non-null   float64\n",
      " 44  EFF_OP_30_Score                                       3057 non-null   float64\n",
      " 45  EFF_OP_4_Score                                        3057 non-null   float64\n",
      " 46  EFF_PC_01_Score                                       3057 non-null   float64\n",
      " 47  EFF_STK_1_Score                                       3057 non-null   float64\n",
      " 48  EFF_STK_10_Score                                      3057 non-null   float64\n",
      " 49  EFF_STK_2_Score                                       3057 non-null   float64\n",
      " 50  EFF_STK_4_Score                                       3057 non-null   float64\n",
      " 51  EFF_STK_5_Score                                       3057 non-null   float64\n",
      " 52  EFF_STK_6_Score                                       3057 non-null   float64\n",
      " 53  EFF_VTE_1_Score                                       3057 non-null   float64\n",
      " 54  EFF_VTE_2_Score                                       3057 non-null   float64\n",
      " 55  EFF_VTE_3_Score                                       3057 non-null   float64\n",
      " 56  EFF_VTE_5_Score                                       3057 non-null   float64\n",
      " 57  EFF_VTE_6_Score                                       3057 non-null   float64\n",
      " 58  EXP_H_CLEAN_STAR_RATING_Score                         3057 non-null   float64\n",
      " 59  EXP_H_COMP_1_STAR_RATING_Score                        3057 non-null   float64\n",
      " 60  EXP_H_COMP_2_STAR_RATING_Score                        3057 non-null   float64\n",
      " 61  EXP_H_COMP_3_STAR_RATING_Score                        3057 non-null   float64\n",
      " 62  EXP_H_COMP_4_STAR_RATING_Score                        3057 non-null   float64\n",
      " 63  EXP_H_COMP_5_STAR_RATING_Score                        3057 non-null   float64\n",
      " 64  EXP_H_COMP_6_STAR_RATING_Score                        3057 non-null   float64\n",
      " 65  EXP_H_COMP_7_STAR_RATING_Score                        3057 non-null   float64\n",
      " 66  EXP_H_HSP_RATING_STAR_RATING_Score                    3057 non-null   float64\n",
      " 67  EXP_H_QUIET_STAR_RATING_Score                         3057 non-null   float64\n",
      " 68  EXP_H_RECMND_STAR_RATING_Score                        3057 non-null   float64\n",
      " 69  EXP_H_STAR_RATING_Score                               3057 non-null   float64\n",
      " 70  SAFETY_COMP_HIP_KNEE_Score                            3057 non-null   float64\n",
      " 71  SAFETY_PSI_12_POSTOP_PULMEMB_DVT_Score                3057 non-null   float64\n",
      " 72  SAFETY_PSI_13_POST_SEPSIS_Score                       3057 non-null   float64\n",
      " 73  SAFETY_PSI_14_POSTOP_DEHIS_Score                      3057 non-null   float64\n",
      " 74  SAFETY_PSI_15_ACC_LAC_Score                           3057 non-null   float64\n",
      " 75  SAFETY_PSI_3_ULCER_Score                              3057 non-null   float64\n",
      " 76  SAFETY_PSI_4_SURG_COMP_Score                          3057 non-null   float64\n",
      " 77  SAFETY_PSI_6_IAT_PTX_Score                            3057 non-null   float64\n",
      " 78  SAFETY_PSI_7_CVCBI_Score                              3057 non-null   float64\n",
      " 79  SAFETY_PSI_90_SAFETY_Score                            3057 non-null   float64\n",
      " 80  SAFETY_HAI_1_SIR_Score                                3057 non-null   float64\n",
      " 81  SAFETY_HAI_1a_SIR_Score                               3057 non-null   float64\n",
      " 82  SAFETY_HAI_2_SIR_Score                                3057 non-null   float64\n",
      " 83  SAFETY_HAI_2a_SIR_Score                               3057 non-null   float64\n",
      " 84  SAFETY_HAI_3_SIR_Score                                3057 non-null   float64\n",
      " 85  SAFETY_HAI_4_SIR_Score                                3057 non-null   float64\n",
      " 86  SAFETY_HAI_5_SIR_Score                                3057 non-null   float64\n",
      " 87  SAFETY_HAI_6_SIR_Score                                3057 non-null   float64\n",
      " 88  MED_OP_10_Score                                       3057 non-null   float64\n",
      " 89  MED_OP_11_Score                                       3057 non-null   float64\n",
      " 90  MED_OP_13_Score                                       3057 non-null   float64\n",
      " 91  MED_OP_14_Score                                       3057 non-null   float64\n",
      " 92  MED_OP_8_Score                                        3057 non-null   float64\n",
      " 93  MED_OP_9_Score                                        3057 non-null   float64\n",
      "dtypes: float64(76), int64(11), object(7)\n",
      "memory usage: 2.2+ MB\n",
      "None\n",
      "\n",
      "Descriptive Statistics:\n",
      "       Hospital overall rating  Mortality national comparison  \\\n",
      "count              3057.000000                    3057.000000   \n",
      "mean                  3.025842                       1.018973   \n",
      "std                   0.869600                       0.492383   \n",
      "min                   1.000000                       0.000000   \n",
      "25%                   2.000000                       1.000000   \n",
      "50%                   3.000000                       1.000000   \n",
      "75%                   4.000000                       1.000000   \n",
      "max                   5.000000                       2.000000   \n",
      "\n",
      "       Safety of care national comparison  \\\n",
      "count                         3057.000000   \n",
      "mean                             1.042852   \n",
      "std                              0.693884   \n",
      "min                              0.000000   \n",
      "25%                              1.000000   \n",
      "50%                              1.000000   \n",
      "75%                              2.000000   \n",
      "max                              2.000000   \n",
      "\n",
      "       Patient experience national comparison  \\\n",
      "count                             3057.000000   \n",
      "mean                                 0.937848   \n",
      "std                                  0.799253   \n",
      "min                                  0.000000   \n",
      "25%                                  0.000000   \n",
      "50%                                  1.000000   \n",
      "75%                                  2.000000   \n",
      "max                                  2.000000   \n",
      "\n",
      "       Effectiveness of care national comparison  \n",
      "count                                3057.000000  \n",
      "mean                                    1.192673  \n",
      "std                                     0.647062  \n",
      "min                                     0.000000  \n",
      "25%                                     1.000000  \n",
      "50%                                     1.000000  \n",
      "75%                                     2.000000  \n",
      "max                                     2.000000  \n"
     ]
    }
   ],
   "source": [
    "# Load the dataset\n",
    "df = pd.read_csv('hospital-info.csv')  # Make sure to replace 'your_data_file.csv' with the actual file name\n",
    "\n",
    "# Display basic information about the dataset\n",
    "print(\"Dataset Information:\")\n",
    "print(df.info())\n",
    "\n",
    "# Display descriptive statistics for important columns\n",
    "important_columns = ['Hospital overall rating', 'Mortality national comparison', 'Safety of care national comparison',\n",
    "                      'Patient experience national comparison', 'Effectiveness of care national comparison']\n",
    "print(\"\\nDescriptive Statistics:\")\n",
    "print(df[important_columns].describe())\n"
   ]
  },
  {
   "cell_type": "code",
   "execution_count": 75,
   "id": "332c50f7",
   "metadata": {
    "id": "332c50f7"
   },
   "outputs": [
    {
     "name": "stdout",
     "output_type": "stream",
     "text": [
      "<class 'pandas.core.frame.DataFrame'>\n",
      "RangeIndex: 3057 entries, 0 to 3056\n",
      "Data columns (total 94 columns):\n",
      " #   Column                                                Non-Null Count  Dtype  \n",
      "---  ------                                                --------------  -----  \n",
      " 0   Provider ID                                           3057 non-null   int64  \n",
      " 1   Hospital Name                                         3057 non-null   object \n",
      " 2   Address                                               3057 non-null   object \n",
      " 3   City                                                  3057 non-null   object \n",
      " 4   State                                                 3057 non-null   object \n",
      " 5   ZIP Code                                              3057 non-null   int64  \n",
      " 6   County Name                                           3057 non-null   object \n",
      " 7   Phone Number                                          3057 non-null   int64  \n",
      " 8   Hospital Ownership                                    3057 non-null   object \n",
      " 9   Emergency Services                                    3057 non-null   object \n",
      " 10  Hospital overall rating                               3057 non-null   int64  \n",
      " 11  Mortality national comparison                         3057 non-null   int64  \n",
      " 12  Safety of care national comparison                    3057 non-null   int64  \n",
      " 13  Readmission national comparison                       3057 non-null   int64  \n",
      " 14  Patient experience national comparison                3057 non-null   int64  \n",
      " 15  Effectiveness of care national comparison             3057 non-null   int64  \n",
      " 16  Timeliness of care national comparison                3057 non-null   int64  \n",
      " 17  Efficient use of medical imaging national comparison  3057 non-null   int64  \n",
      " 18  MORT_30_AMI_Score                                     3057 non-null   float64\n",
      " 19  MORT_30_CABG_Score                                    3057 non-null   float64\n",
      " 20  MORT_30_COPD_Score                                    3057 non-null   float64\n",
      " 21  MORT_30_HF_Score                                      3057 non-null   float64\n",
      " 22  MORT_30_PN_Score                                      3057 non-null   float64\n",
      " 23  MORT_30_STK_Score                                     3057 non-null   float64\n",
      " 24  rating_group                                          3057 non-null   float64\n",
      " 25  READM_30_AMI_Score                                    3057 non-null   float64\n",
      " 26  READM_30_CABG_Score                                   3057 non-null   float64\n",
      " 27  READM_30_COPD_Score                                   3057 non-null   float64\n",
      " 28  READM_30_HF_Score                                     3057 non-null   float64\n",
      " 29  READM_30_HIP_KNEE_Score                               3057 non-null   float64\n",
      " 30  READM_30_HOSP_WIDE_Score                              3057 non-null   float64\n",
      " 31  READM_30_PN_Score                                     3057 non-null   float64\n",
      " 32  READM_30_STK_Score                                    3057 non-null   float64\n",
      " 33  TIME_OP_21_Score                                      3057 non-null   float64\n",
      " 34  TIME_OP_5_Score                                       3057 non-null   float64\n",
      " 35  EFF_EDV_Score                                         3057 non-null   float64\n",
      " 36  EFF_ED_1b_Score                                       3057 non-null   float64\n",
      " 37  EFF_ED_2b_Score                                       3057 non-null   float64\n",
      " 38  EFF_IMM_2_Score                                       3057 non-null   float64\n",
      " 39  EFF_IMM_3_OP_27_FAC_ADHPCT_Score                      3057 non-null   float64\n",
      " 40  EFF_OP_18b_Score                                      3057 non-null   float64\n",
      " 41  EFF_OP_20_Score                                       3057 non-null   float64\n",
      " 42  EFF_OP_22_Score                                       3057 non-null   float64\n",
      " 43  EFF_OP_29_Score                                       3057 non-null   float64\n",
      " 44  EFF_OP_30_Score                                       3057 non-null   float64\n",
      " 45  EFF_OP_4_Score                                        3057 non-null   float64\n",
      " 46  EFF_PC_01_Score                                       3057 non-null   float64\n",
      " 47  EFF_STK_1_Score                                       3057 non-null   float64\n",
      " 48  EFF_STK_10_Score                                      3057 non-null   float64\n",
      " 49  EFF_STK_2_Score                                       3057 non-null   float64\n",
      " 50  EFF_STK_4_Score                                       3057 non-null   float64\n",
      " 51  EFF_STK_5_Score                                       3057 non-null   float64\n",
      " 52  EFF_STK_6_Score                                       3057 non-null   float64\n",
      " 53  EFF_VTE_1_Score                                       3057 non-null   float64\n",
      " 54  EFF_VTE_2_Score                                       3057 non-null   float64\n",
      " 55  EFF_VTE_3_Score                                       3057 non-null   float64\n",
      " 56  EFF_VTE_5_Score                                       3057 non-null   float64\n",
      " 57  EFF_VTE_6_Score                                       3057 non-null   float64\n",
      " 58  EXP_H_CLEAN_STAR_RATING_Score                         3057 non-null   float64\n",
      " 59  EXP_H_COMP_1_STAR_RATING_Score                        3057 non-null   float64\n",
      " 60  EXP_H_COMP_2_STAR_RATING_Score                        3057 non-null   float64\n",
      " 61  EXP_H_COMP_3_STAR_RATING_Score                        3057 non-null   float64\n",
      " 62  EXP_H_COMP_4_STAR_RATING_Score                        3057 non-null   float64\n",
      " 63  EXP_H_COMP_5_STAR_RATING_Score                        3057 non-null   float64\n",
      " 64  EXP_H_COMP_6_STAR_RATING_Score                        3057 non-null   float64\n",
      " 65  EXP_H_COMP_7_STAR_RATING_Score                        3057 non-null   float64\n",
      " 66  EXP_H_HSP_RATING_STAR_RATING_Score                    3057 non-null   float64\n",
      " 67  EXP_H_QUIET_STAR_RATING_Score                         3057 non-null   float64\n",
      " 68  EXP_H_RECMND_STAR_RATING_Score                        3057 non-null   float64\n",
      " 69  EXP_H_STAR_RATING_Score                               3057 non-null   float64\n",
      " 70  SAFETY_COMP_HIP_KNEE_Score                            3057 non-null   float64\n",
      " 71  SAFETY_PSI_12_POSTOP_PULMEMB_DVT_Score                3057 non-null   float64\n",
      " 72  SAFETY_PSI_13_POST_SEPSIS_Score                       3057 non-null   float64\n",
      " 73  SAFETY_PSI_14_POSTOP_DEHIS_Score                      3057 non-null   float64\n",
      " 74  SAFETY_PSI_15_ACC_LAC_Score                           3057 non-null   float64\n",
      " 75  SAFETY_PSI_3_ULCER_Score                              3057 non-null   float64\n",
      " 76  SAFETY_PSI_4_SURG_COMP_Score                          3057 non-null   float64\n",
      " 77  SAFETY_PSI_6_IAT_PTX_Score                            3057 non-null   float64\n",
      " 78  SAFETY_PSI_7_CVCBI_Score                              3057 non-null   float64\n",
      " 79  SAFETY_PSI_90_SAFETY_Score                            3057 non-null   float64\n",
      " 80  SAFETY_HAI_1_SIR_Score                                3057 non-null   float64\n",
      " 81  SAFETY_HAI_1a_SIR_Score                               3057 non-null   float64\n",
      " 82  SAFETY_HAI_2_SIR_Score                                3057 non-null   float64\n",
      " 83  SAFETY_HAI_2a_SIR_Score                               3057 non-null   float64\n",
      " 84  SAFETY_HAI_3_SIR_Score                                3057 non-null   float64\n",
      " 85  SAFETY_HAI_4_SIR_Score                                3057 non-null   float64\n",
      " 86  SAFETY_HAI_5_SIR_Score                                3057 non-null   float64\n",
      " 87  SAFETY_HAI_6_SIR_Score                                3057 non-null   float64\n",
      " 88  MED_OP_10_Score                                       3057 non-null   float64\n",
      " 89  MED_OP_11_Score                                       3057 non-null   float64\n",
      " 90  MED_OP_13_Score                                       3057 non-null   float64\n",
      " 91  MED_OP_14_Score                                       3057 non-null   float64\n",
      " 92  MED_OP_8_Score                                        3057 non-null   float64\n",
      " 93  MED_OP_9_Score                                        3057 non-null   float64\n",
      "dtypes: float64(76), int64(11), object(7)\n",
      "memory usage: 2.2+ MB\n"
     ]
    }
   ],
   "source": [
    "# Check the data type of different columns\n",
    "df.info()\n"
   ]
  },
  {
   "cell_type": "markdown",
   "id": "82d3e90e",
   "metadata": {
    "id": "82d3e90e"
   },
   "source": [
    "Note down your observations after completing the above task. You should ask questions such as:\n",
    "\n",
    "- Check for non-null columns. Do you see any column having missing values?\n",
    "- Are the datatypes correct for all the variables? You might have to convert a few of them to categorical later"
   ]
  },
  {
   "cell_type": "markdown",
   "id": "9c9dd723",
   "metadata": {
    "id": "9c9dd723"
   },
   "source": [
    "##### Task 1.2"
   ]
  },
  {
   "cell_type": "code",
   "execution_count": 22,
   "id": "712401c4",
   "metadata": {
    "id": "712401c4"
   },
   "outputs": [],
   "source": [
    "## Descriptive Statistics\n",
    "## Let's take the main measures and the hospital overall rating first.\n",
    "features = ['Mortality national comparison', 'Safety of care national comparison',\n",
    "            'Readmission national comparison', 'Patient experience national comparison',\n",
    "            'Effectiveness of care national comparison', 'Timeliness of care national comparison',\n",
    "            'Efficient use of medical imaging national comparison']"
   ]
  },
  {
   "cell_type": "code",
   "execution_count": 23,
   "id": "fd43d9f7",
   "metadata": {
    "id": "fd43d9f7"
   },
   "outputs": [
    {
     "data": {
      "image/png": "[encoded data removed]",
      "text/plain": [
       "<Figure size 800x600 with 1 Axes>"
      ]
     },
     "metadata": {},
     "output_type": "display_data"
    },
    {
     "data": {
      "image/png": "[encoded data removed]",
      "text/plain": [
       "<Figure size 1000x800 with 2 Axes>"
      ]
     },
     "metadata": {},
     "output_type": "display_data"
    }
   ],
   "source": [
    "# Filter out the specified columns and compute descriptive statistics\n",
    "main_measures_stats = df[features].describe()\n",
    "\n",
    "# Plot the distribution of the target variable \"Hospital overall rating\"\n",
    "plt.figure(figsize=(8, 6))\n",
    "sns.countplot(x='Hospital overall rating', data=df)\n",
    "plt.title('Distribution of Hospital Overall Ratings')\n",
    "plt.show()\n",
    "\n",
    "# Plot a correlation heatmap between main measures and the target variable\n",
    "plt.figure(figsize=(10, 8))\n",
    "correlation_matrix = df[features + ['Hospital overall rating']].corr()\n",
    "sns.heatmap(correlation_matrix, annot=True, cmap='coolwarm', fmt=\".2f\")\n",
    "plt.title('Correlation Heatmap')\n",
    "plt.show()\n",
    "\n",
    "# Check how hospital ratings vary across \"State\"\n",
    "state_rating_pivot = df.pivot_table(values='Hospital overall rating', index='State', aggfunc='mean')\n",
    "\n",
    "# Check how hospital ratings vary across \"Hospital Ownership\"\n",
    "ownership_rating_pivot = df.pivot_table(values='Hospital overall rating', index='Hospital Ownership', aggfunc='mean')\n"
   ]
  },
  {
   "cell_type": "code",
   "execution_count": null,
   "id": "9ad5df5f",
   "metadata": {
    "id": "9ad5df5f"
   },
   "outputs": [],
   "source": []
  },
  {
   "cell_type": "code",
   "execution_count": null,
   "id": "69cc87c9",
   "metadata": {
    "id": "69cc87c9"
   },
   "outputs": [],
   "source": []
  },
  {
   "cell_type": "markdown",
   "id": "326ca122",
   "metadata": {
    "id": "326ca122"
   },
   "source": [
    "\n",
    "Note down your observations after completing the above task. You should ask questions such as:\n",
    "\n",
    "- How are ratings distributed? the Are you seeing any peculiar distributions for the ratings?\n",
    "- How do the correlations between the measures and the target variable look like?\n",
    "- How do ratings vary across the different levels of the parameter that you have taken?"
   ]
  },
  {
   "cell_type": "markdown",
   "id": "03cf12d8",
   "metadata": {
    "id": "03cf12d8"
   },
   "source": [
    "### Task 2 - Building machine learning models\n",
    "\n",
    "Use your knowledge of classification models to create three models that predict hospital ratings. You should follow these steps:\n",
    "\n",
    "- Prepare the data for the machine learning model \n",
    "   - Remove all the demographic columns as well as any other uneccessary features from the data set\n",
    "   - For simplification, instead of having 5 ratings, we will convert them to 0 and 1. Here 0 indicates that the hospital has been rated 3 or below and 1 indicates that the hospital has been rated as 4 or 5.  Encode the Hospital columns as follows\n",
    "            1,2,3 : 0\n",
    "            4,5: 1\n",
    "   - Store the predictors and the target variable in variables X and y.\n",
    "   - Create the dummy variables for categorical columns.\n",
    "   - Split the data into train and test sets (70-30 split with random state 0. This random state is recommended, though you can use any other random state of your choice).\n",
    "   - Scale the numerical columns using StandardScaler.\n",
    "- Build 3 classification models on your dataset. Carefully apply regularization and hyperparameter tuning techniques to improve your model performance for each of the models.\n",
    "- Summarize the classification performance in terms of the necessary metrics such as accuracy, sensitivity, specificity, etc."
   ]
  },
  {
   "cell_type": "markdown",
   "id": "2aa58f46",
   "metadata": {
    "id": "2aa58f46"
   },
   "source": [
    "#####  Prepare the data for machine learning model"
   ]
  },
  {
   "cell_type": "code",
   "execution_count": 62,
   "id": "36980db9",
   "metadata": {
    "id": "36980db9"
   },
   "outputs": [],
   "source": [
    "## Drop all the demographic features\n",
    "demo_features = ['Provider ID','Hospital Name',\n",
    " 'Address',\n",
    " 'City',\n",
    " 'State',\n",
    " 'ZIP Code',\n",
    " 'County Name',\n",
    " 'Phone Number']"
   ]
  },
  {
   "cell_type": "code",
   "execution_count": 63,
   "id": "4bdde33f",
   "metadata": {
    "id": "4bdde33f"
   },
   "outputs": [
    {
     "name": "stdout",
     "output_type": "stream",
     "text": [
      "  Hospital Ownership Emergency Services  Hospital overall rating  \\\n",
      "0         Government                Yes                        3   \n",
      "1         Government                Yes                        3   \n",
      "2         Government                Yes                        2   \n",
      "3          Voluntary                Yes                        3   \n",
      "4             Others                Yes                        3   \n",
      "\n",
      "   Mortality national comparison  Safety of care national comparison  \\\n",
      "0                              1                                   2   \n",
      "1                              0                                   1   \n",
      "2                              0                                   1   \n",
      "3                              1                                   1   \n",
      "4                              1                                   1   \n",
      "\n",
      "   Readmission national comparison  Patient experience national comparison  \\\n",
      "0                                1                                       0   \n",
      "1                                2                                       1   \n",
      "2                                1                                       0   \n",
      "3                                0                                       1   \n",
      "4                                1                                       1   \n",
      "\n",
      "   Effectiveness of care national comparison  \\\n",
      "0                                          1   \n",
      "1                                          1   \n",
      "2                                          1   \n",
      "3                                          1   \n",
      "4                                          1   \n",
      "\n",
      "   Timeliness of care national comparison  \\\n",
      "0                                       1   \n",
      "1                                       2   \n",
      "2                                       2   \n",
      "3                                       2   \n",
      "4                                       2   \n",
      "\n",
      "   Efficient use of medical imaging national comparison  ...  \\\n",
      "0                                                  1     ...   \n",
      "1                                                  0     ...   \n",
      "2                                                  1     ...   \n",
      "3                                                  1     ...   \n",
      "4                                                  1     ...   \n",
      "\n",
      "   SAFETY_HAI_3_SIR_Score  SAFETY_HAI_4_SIR_Score  SAFETY_HAI_5_SIR_Score  \\\n",
      "0                -1.87000               -0.000000               -0.422000   \n",
      "1                -0.38600               -0.871177               -1.388000   \n",
      "2                -0.31000               -0.871177               -1.261000   \n",
      "3                -0.96398               -0.871177               -0.987212   \n",
      "4                -0.96398               -0.871177               -0.987212   \n",
      "\n",
      "   SAFETY_HAI_6_SIR_Score  MED_OP_10_Score  MED_OP_11_Score  MED_OP_13_Score  \\\n",
      "0                  -0.787             -6.4        -0.900000        -7.100000   \n",
      "1                  -0.405            -13.3       -10.200000        -5.300000   \n",
      "2                  -0.513            -11.8        -4.600000        -0.000000   \n",
      "3                  -0.000            -24.3        -6.100000        -4.716942   \n",
      "4                  -0.585             -3.6        -2.936245        -4.716942   \n",
      "\n",
      "   MED_OP_14_Score  MED_OP_8_Score  MED_OP_9_Score  \n",
      "0        -2.400000      -38.100000            -6.9  \n",
      "1        -4.000000      -42.800000            -5.1  \n",
      "2        -4.600000      -45.600000            -9.1  \n",
      "3        -2.964405      -39.964766           -20.7  \n",
      "4        -0.600000      -39.964766            -8.2  \n",
      "\n",
      "[5 rows x 86 columns]\n",
      "Index(['Hospital Ownership', 'Emergency Services', 'Hospital overall rating',\n",
      "       'Mortality national comparison', 'Safety of care national comparison',\n",
      "       'Readmission national comparison',\n",
      "       'Patient experience national comparison',\n",
      "       'Effectiveness of care national comparison',\n",
      "       'Timeliness of care national comparison',\n",
      "       'Efficient use of medical imaging national comparison',\n",
      "       'MORT_30_AMI_Score', 'MORT_30_CABG_Score', 'MORT_30_COPD_Score',\n",
      "       'MORT_30_HF_Score', 'MORT_30_PN_Score', 'MORT_30_STK_Score',\n",
      "       'rating_group', 'READM_30_AMI_Score', 'READM_30_CABG_Score',\n",
      "       'READM_30_COPD_Score', 'READM_30_HF_Score', 'READM_30_HIP_KNEE_Score',\n",
      "       'READM_30_HOSP_WIDE_Score', 'READM_30_PN_Score', 'READM_30_STK_Score',\n",
      "       'TIME_OP_21_Score', 'TIME_OP_5_Score', 'EFF_EDV_Score',\n",
      "       'EFF_ED_1b_Score', 'EFF_ED_2b_Score', 'EFF_IMM_2_Score',\n",
      "       'EFF_IMM_3_OP_27_FAC_ADHPCT_Score', 'EFF_OP_18b_Score',\n",
      "       'EFF_OP_20_Score', 'EFF_OP_22_Score', 'EFF_OP_29_Score',\n",
      "       'EFF_OP_30_Score', 'EFF_OP_4_Score', 'EFF_PC_01_Score',\n",
      "       'EFF_STK_1_Score', 'EFF_STK_10_Score', 'EFF_STK_2_Score',\n",
      "       'EFF_STK_4_Score', 'EFF_STK_5_Score', 'EFF_STK_6_Score',\n",
      "       'EFF_VTE_1_Score', 'EFF_VTE_2_Score', 'EFF_VTE_3_Score',\n",
      "       'EFF_VTE_5_Score', 'EFF_VTE_6_Score', 'EXP_H_CLEAN_STAR_RATING_Score',\n",
      "       'EXP_H_COMP_1_STAR_RATING_Score', 'EXP_H_COMP_2_STAR_RATING_Score',\n",
      "       'EXP_H_COMP_3_STAR_RATING_Score', 'EXP_H_COMP_4_STAR_RATING_Score',\n",
      "       'EXP_H_COMP_5_STAR_RATING_Score', 'EXP_H_COMP_6_STAR_RATING_Score',\n",
      "       'EXP_H_COMP_7_STAR_RATING_Score', 'EXP_H_HSP_RATING_STAR_RATING_Score',\n",
      "       'EXP_H_QUIET_STAR_RATING_Score', 'EXP_H_RECMND_STAR_RATING_Score',\n",
      "       'EXP_H_STAR_RATING_Score', 'SAFETY_COMP_HIP_KNEE_Score',\n",
      "       'SAFETY_PSI_12_POSTOP_PULMEMB_DVT_Score',\n",
      "       'SAFETY_PSI_13_POST_SEPSIS_Score', 'SAFETY_PSI_14_POSTOP_DEHIS_Score',\n",
      "       'SAFETY_PSI_15_ACC_LAC_Score', 'SAFETY_PSI_3_ULCER_Score',\n",
      "       'SAFETY_PSI_4_SURG_COMP_Score', 'SAFETY_PSI_6_IAT_PTX_Score',\n",
      "       'SAFETY_PSI_7_CVCBI_Score', 'SAFETY_PSI_90_SAFETY_Score',\n",
      "       'SAFETY_HAI_1_SIR_Score', 'SAFETY_HAI_1a_SIR_Score',\n",
      "       'SAFETY_HAI_2_SIR_Score', 'SAFETY_HAI_2a_SIR_Score',\n",
      "       'SAFETY_HAI_3_SIR_Score', 'SAFETY_HAI_4_SIR_Score',\n",
      "       'SAFETY_HAI_5_SIR_Score', 'SAFETY_HAI_6_SIR_Score', 'MED_OP_10_Score',\n",
      "       'MED_OP_11_Score', 'MED_OP_13_Score', 'MED_OP_14_Score',\n",
      "       'MED_OP_8_Score', 'MED_OP_9_Score'],\n",
      "      dtype='object')\n"
     ]
    }
   ],
   "source": [
    "# Drop demographic features\n",
    "demo_features = ['Provider ID', 'Hospital Name', 'Address', 'City', 'State', 'ZIP Code', 'County Name', 'Phone Number']\n",
    "df2 = df.drop(demo_features, axis=1)\n",
    "\n",
    "# Display the first 5 rows of df2\n",
    "print(df2.head())\n",
    "\n",
    "# Recheck columns for any other unnecessary features\n",
    "print(df2.columns)\n"
   ]
  },
  {
   "cell_type": "code",
   "execution_count": 64,
   "id": "663e9166",
   "metadata": {
    "id": "663e9166",
    "scrolled": false
   },
   "outputs": [
    {
     "name": "stdout",
     "output_type": "stream",
     "text": [
      "<class 'pandas.core.frame.DataFrame'>\n",
      "RangeIndex: 3057 entries, 0 to 3056\n",
      "Data columns (total 85 columns):\n",
      " #   Column                                                Non-Null Count  Dtype  \n",
      "---  ------                                                --------------  -----  \n",
      " 0   Hospital Ownership                                    3057 non-null   object \n",
      " 1   Emergency Services                                    3057 non-null   object \n",
      " 2   Hospital overall rating                               3057 non-null   int64  \n",
      " 3   Mortality national comparison                         3057 non-null   int64  \n",
      " 4   Safety of care national comparison                    3057 non-null   int64  \n",
      " 5   Readmission national comparison                       3057 non-null   int64  \n",
      " 6   Patient experience national comparison                3057 non-null   int64  \n",
      " 7   Effectiveness of care national comparison             3057 non-null   int64  \n",
      " 8   Timeliness of care national comparison                3057 non-null   int64  \n",
      " 9   Efficient use of medical imaging national comparison  3057 non-null   int64  \n",
      " 10  MORT_30_AMI_Score                                     3057 non-null   float64\n",
      " 11  MORT_30_CABG_Score                                    3057 non-null   float64\n",
      " 12  MORT_30_COPD_Score                                    3057 non-null   float64\n",
      " 13  MORT_30_HF_Score                                      3057 non-null   float64\n",
      " 14  MORT_30_PN_Score                                      3057 non-null   float64\n",
      " 15  MORT_30_STK_Score                                     3057 non-null   float64\n",
      " 16  READM_30_AMI_Score                                    3057 non-null   float64\n",
      " 17  READM_30_CABG_Score                                   3057 non-null   float64\n",
      " 18  READM_30_COPD_Score                                   3057 non-null   float64\n",
      " 19  READM_30_HF_Score                                     3057 non-null   float64\n",
      " 20  READM_30_HIP_KNEE_Score                               3057 non-null   float64\n",
      " 21  READM_30_HOSP_WIDE_Score                              3057 non-null   float64\n",
      " 22  READM_30_PN_Score                                     3057 non-null   float64\n",
      " 23  READM_30_STK_Score                                    3057 non-null   float64\n",
      " 24  TIME_OP_21_Score                                      3057 non-null   float64\n",
      " 25  TIME_OP_5_Score                                       3057 non-null   float64\n",
      " 26  EFF_EDV_Score                                         3057 non-null   float64\n",
      " 27  EFF_ED_1b_Score                                       3057 non-null   float64\n",
      " 28  EFF_ED_2b_Score                                       3057 non-null   float64\n",
      " 29  EFF_IMM_2_Score                                       3057 non-null   float64\n",
      " 30  EFF_IMM_3_OP_27_FAC_ADHPCT_Score                      3057 non-null   float64\n",
      " 31  EFF_OP_18b_Score                                      3057 non-null   float64\n",
      " 32  EFF_OP_20_Score                                       3057 non-null   float64\n",
      " 33  EFF_OP_22_Score                                       3057 non-null   float64\n",
      " 34  EFF_OP_29_Score                                       3057 non-null   float64\n",
      " 35  EFF_OP_30_Score                                       3057 non-null   float64\n",
      " 36  EFF_OP_4_Score                                        3057 non-null   float64\n",
      " 37  EFF_PC_01_Score                                       3057 non-null   float64\n",
      " 38  EFF_STK_1_Score                                       3057 non-null   float64\n",
      " 39  EFF_STK_10_Score                                      3057 non-null   float64\n",
      " 40  EFF_STK_2_Score                                       3057 non-null   float64\n",
      " 41  EFF_STK_4_Score                                       3057 non-null   float64\n",
      " 42  EFF_STK_5_Score                                       3057 non-null   float64\n",
      " 43  EFF_STK_6_Score                                       3057 non-null   float64\n",
      " 44  EFF_VTE_1_Score                                       3057 non-null   float64\n",
      " 45  EFF_VTE_2_Score                                       3057 non-null   float64\n",
      " 46  EFF_VTE_3_Score                                       3057 non-null   float64\n",
      " 47  EFF_VTE_5_Score                                       3057 non-null   float64\n",
      " 48  EFF_VTE_6_Score                                       3057 non-null   float64\n",
      " 49  EXP_H_CLEAN_STAR_RATING_Score                         3057 non-null   float64\n",
      " 50  EXP_H_COMP_1_STAR_RATING_Score                        3057 non-null   float64\n",
      " 51  EXP_H_COMP_2_STAR_RATING_Score                        3057 non-null   float64\n",
      " 52  EXP_H_COMP_3_STAR_RATING_Score                        3057 non-null   float64\n",
      " 53  EXP_H_COMP_4_STAR_RATING_Score                        3057 non-null   float64\n",
      " 54  EXP_H_COMP_5_STAR_RATING_Score                        3057 non-null   float64\n",
      " 55  EXP_H_COMP_6_STAR_RATING_Score                        3057 non-null   float64\n",
      " 56  EXP_H_COMP_7_STAR_RATING_Score                        3057 non-null   float64\n",
      " 57  EXP_H_HSP_RATING_STAR_RATING_Score                    3057 non-null   float64\n",
      " 58  EXP_H_QUIET_STAR_RATING_Score                         3057 non-null   float64\n",
      " 59  EXP_H_RECMND_STAR_RATING_Score                        3057 non-null   float64\n",
      " 60  EXP_H_STAR_RATING_Score                               3057 non-null   float64\n",
      " 61  SAFETY_COMP_HIP_KNEE_Score                            3057 non-null   float64\n",
      " 62  SAFETY_PSI_12_POSTOP_PULMEMB_DVT_Score                3057 non-null   float64\n",
      " 63  SAFETY_PSI_13_POST_SEPSIS_Score                       3057 non-null   float64\n",
      " 64  SAFETY_PSI_14_POSTOP_DEHIS_Score                      3057 non-null   float64\n",
      " 65  SAFETY_PSI_15_ACC_LAC_Score                           3057 non-null   float64\n",
      " 66  SAFETY_PSI_3_ULCER_Score                              3057 non-null   float64\n",
      " 67  SAFETY_PSI_4_SURG_COMP_Score                          3057 non-null   float64\n",
      " 68  SAFETY_PSI_6_IAT_PTX_Score                            3057 non-null   float64\n",
      " 69  SAFETY_PSI_7_CVCBI_Score                              3057 non-null   float64\n",
      " 70  SAFETY_PSI_90_SAFETY_Score                            3057 non-null   float64\n",
      " 71  SAFETY_HAI_1_SIR_Score                                3057 non-null   float64\n",
      " 72  SAFETY_HAI_1a_SIR_Score                               3057 non-null   float64\n",
      " 73  SAFETY_HAI_2_SIR_Score                                3057 non-null   float64\n",
      " 74  SAFETY_HAI_2a_SIR_Score                               3057 non-null   float64\n",
      " 75  SAFETY_HAI_3_SIR_Score                                3057 non-null   float64\n",
      " 76  SAFETY_HAI_4_SIR_Score                                3057 non-null   float64\n",
      " 77  SAFETY_HAI_5_SIR_Score                                3057 non-null   float64\n",
      " 78  SAFETY_HAI_6_SIR_Score                                3057 non-null   float64\n",
      " 79  MED_OP_10_Score                                       3057 non-null   float64\n",
      " 80  MED_OP_11_Score                                       3057 non-null   float64\n",
      " 81  MED_OP_13_Score                                       3057 non-null   float64\n",
      " 82  MED_OP_14_Score                                       3057 non-null   float64\n",
      " 83  MED_OP_8_Score                                        3057 non-null   float64\n",
      " 84  MED_OP_9_Score                                        3057 non-null   float64\n",
      "dtypes: float64(75), int64(8), object(2)\n",
      "memory usage: 2.0+ MB\n",
      "None\n"
     ]
    }
   ],
   "source": [
    "# Identify and drop any other unnecessary columns\n",
    "# For simplicity, let's drop 'rating_group' as it's not needed for building machine learning models\n",
    "df2 = df2.drop('rating_group', axis=1)\n",
    "\n",
    "\n",
    "# Recheck columns after dropping unnecessary features\n",
    "print(df2.columns)\n"
   ]
  },
  {
   "cell_type": "code",
   "execution_count": 65,
   "id": "81a2bc6e",
   "metadata": {
    "id": "81a2bc6e",
    "scrolled": true
   },
   "outputs": [
    {
     "name": "stdout",
     "output_type": "stream",
     "text": [
      "   Hospital overall rating  Mortality national comparison  \\\n",
      "0                        3                              1   \n",
      "1                        3                              0   \n",
      "2                        2                              0   \n",
      "3                        3                              1   \n",
      "4                        3                              1   \n",
      "\n",
      "   Safety of care national comparison  Readmission national comparison  \\\n",
      "0                                   2                                1   \n",
      "1                                   1                                2   \n",
      "2                                   1                                1   \n",
      "3                                   1                                0   \n",
      "4                                   1                                1   \n",
      "\n",
      "   Patient experience national comparison  \\\n",
      "0                                       0   \n",
      "1                                       1   \n",
      "2                                       0   \n",
      "3                                       1   \n",
      "4                                       1   \n",
      "\n",
      "   Effectiveness of care national comparison  \\\n",
      "0                                          1   \n",
      "1                                          1   \n",
      "2                                          1   \n",
      "3                                          1   \n",
      "4                                          1   \n",
      "\n",
      "   Timeliness of care national comparison  \\\n",
      "0                                       1   \n",
      "1                                       2   \n",
      "2                                       2   \n",
      "3                                       2   \n",
      "4                                       2   \n",
      "\n",
      "   Efficient use of medical imaging national comparison  MORT_30_AMI_Score  \\\n",
      "0                                                  1            -12.500000   \n",
      "1                                                  0            -16.000000   \n",
      "2                                                  1            -16.700000   \n",
      "3                                                  1            -14.054091   \n",
      "4                                                  1            -14.054091   \n",
      "\n",
      "   MORT_30_CABG_Score  ...  MED_OP_11_Score  MED_OP_13_Score  MED_OP_14_Score  \\\n",
      "0           -4.200000  ...        -0.900000        -7.100000        -2.400000   \n",
      "1           -3.331371  ...       -10.200000        -5.300000        -4.000000   \n",
      "2           -4.100000  ...        -4.600000        -0.000000        -4.600000   \n",
      "3           -3.331371  ...        -6.100000        -4.716942        -2.964405   \n",
      "4           -3.331371  ...        -2.936245        -4.716942        -0.600000   \n",
      "\n",
      "   MED_OP_8_Score  MED_OP_9_Score  Hospital Ownership_Government  \\\n",
      "0      -38.100000            -6.9                              1   \n",
      "1      -42.800000            -5.1                              1   \n",
      "2      -45.600000            -9.1                              1   \n",
      "3      -39.964766           -20.7                              0   \n",
      "4      -39.964766            -8.2                              0   \n",
      "\n",
      "   Hospital Ownership_Others  Hospital Ownership_Voluntary  \\\n",
      "0                          0                             0   \n",
      "1                          0                             0   \n",
      "2                          0                             0   \n",
      "3                          0                             1   \n",
      "4                          1                             0   \n",
      "\n",
      "   Emergency Services_No  Emergency Services_Yes  \n",
      "0                      0                       1  \n",
      "1                      0                       1  \n",
      "2                      0                       1  \n",
      "3                      0                       1  \n",
      "4                      0                       1  \n",
      "\n",
      "[5 rows x 88 columns]\n",
      "(3057, 88)\n"
     ]
    }
   ],
   "source": [
    "# Create dummy variables for categorical columns\n",
    "df2 = pd.get_dummies(df2, columns=['Hospital Ownership', 'Emergency Services'])\n",
    "\n",
    "# Display the first 5 rows of the modified DataFrame\n",
    "print(df2.head())\n",
    "\n",
    "# Check the shape of the DataFrame to ensure everything is in order\n",
    "print(df2.shape)\n"
   ]
  },
  {
   "cell_type": "markdown",
   "id": "6d6c2a06",
   "metadata": {
    "id": "6d6c2a06"
   },
   "source": [
    "##### Map the ratings \n",
    "\n",
    "- 1,2,3 will be 0\n",
    "- 4,5 will be 1"
   ]
  },
  {
   "cell_type": "code",
   "execution_count": 66,
   "id": "ac035034",
   "metadata": {
    "id": "ac035034"
   },
   "outputs": [],
   "source": [
    "# Map the ratings as per the given instructions\n",
    "df2['Hospital overall rating'] = df2['Hospital overall rating'].map(lambda x: 0 if x in [1, 2, 3] else 1)\n"
   ]
  },
  {
   "cell_type": "markdown",
   "id": "c842e629",
   "metadata": {
    "id": "c842e629"
   },
   "source": [
    "##### Convert the datatypes of the categorical variables"
   ]
  },
  {
   "cell_type": "code",
   "execution_count": 67,
   "id": "2f2693f0",
   "metadata": {
    "id": "2f2693f0"
   },
   "outputs": [],
   "source": [
    "# Assuming 'Hospital overall rating' is the target variable\n",
    "# Convert other categorical columns to the appropriate data types\n",
    "categorical_columns = ['Mortality national comparison', 'Safety of care national comparison',\n",
    "                        'Readmission national comparison', 'Patient experience national comparison',\n",
    "                        'Effectiveness of care national comparison', 'Timeliness of care national comparison',\n",
    "                        'Efficient use of medical imaging national comparison']\n",
    "\n",
    "df2[categorical_columns] = df2[categorical_columns].astype('category')\n"
   ]
  },
  {
   "cell_type": "markdown",
   "id": "7231d7ff",
   "metadata": {
    "id": "7231d7ff"
   },
   "source": [
    "##### Data Preparation and Train-test split"
   ]
  },
  {
   "cell_type": "code",
   "execution_count": 68,
   "id": "c7202f03",
   "metadata": {
    "id": "c7202f03"
   },
   "outputs": [],
   "source": [
    "# Create X and y variables\n",
    "X = df2.drop('Hospital overall rating', axis=1)\n",
    "y = df2['Hospital overall rating']\n",
    "\n",
    "# Create dummy variables for categorical variables\n",
    "X = pd.get_dummies(X, drop_first=True)\n",
    "\n",
    "# Perform the train-test split\n",
    "from sklearn.model_selection import train_test_split\n",
    "X_train, X_test, y_train, y_test = train_test_split(X, y, test_size=0.3, random_state=0)\n"
   ]
  },
  {
   "cell_type": "code",
   "execution_count": 69,
   "id": "a156f275",
   "metadata": {
    "id": "a156f275"
   },
   "outputs": [
    {
     "name": "stdout",
     "output_type": "stream",
     "text": [
      "<class 'pandas.core.frame.DataFrame'>\n",
      "Int64Index: 2139 entries, 2001 to 2732\n",
      "Data columns (total 94 columns):\n",
      " #   Column                                                  Non-Null Count  Dtype  \n",
      "---  ------                                                  --------------  -----  \n",
      " 0   MORT_30_AMI_Score                                       2139 non-null   float64\n",
      " 1   MORT_30_CABG_Score                                      2139 non-null   float64\n",
      " 2   MORT_30_COPD_Score                                      2139 non-null   float64\n",
      " 3   MORT_30_HF_Score                                        2139 non-null   float64\n",
      " 4   MORT_30_PN_Score                                        2139 non-null   float64\n",
      " 5   MORT_30_STK_Score                                       2139 non-null   float64\n",
      " 6   READM_30_AMI_Score                                      2139 non-null   float64\n",
      " 7   READM_30_CABG_Score                                     2139 non-null   float64\n",
      " 8   READM_30_COPD_Score                                     2139 non-null   float64\n",
      " 9   READM_30_HF_Score                                       2139 non-null   float64\n",
      " 10  READM_30_HIP_KNEE_Score                                 2139 non-null   float64\n",
      " 11  READM_30_HOSP_WIDE_Score                                2139 non-null   float64\n",
      " 12  READM_30_PN_Score                                       2139 non-null   float64\n",
      " 13  READM_30_STK_Score                                      2139 non-null   float64\n",
      " 14  TIME_OP_21_Score                                        2139 non-null   float64\n",
      " 15  TIME_OP_5_Score                                         2139 non-null   float64\n",
      " 16  EFF_EDV_Score                                           2139 non-null   float64\n",
      " 17  EFF_ED_1b_Score                                         2139 non-null   float64\n",
      " 18  EFF_ED_2b_Score                                         2139 non-null   float64\n",
      " 19  EFF_IMM_2_Score                                         2139 non-null   float64\n",
      " 20  EFF_IMM_3_OP_27_FAC_ADHPCT_Score                        2139 non-null   float64\n",
      " 21  EFF_OP_18b_Score                                        2139 non-null   float64\n",
      " 22  EFF_OP_20_Score                                         2139 non-null   float64\n",
      " 23  EFF_OP_22_Score                                         2139 non-null   float64\n",
      " 24  EFF_OP_29_Score                                         2139 non-null   float64\n",
      " 25  EFF_OP_30_Score                                         2139 non-null   float64\n",
      " 26  EFF_OP_4_Score                                          2139 non-null   float64\n",
      " 27  EFF_PC_01_Score                                         2139 non-null   float64\n",
      " 28  EFF_STK_1_Score                                         2139 non-null   float64\n",
      " 29  EFF_STK_10_Score                                        2139 non-null   float64\n",
      " 30  EFF_STK_2_Score                                         2139 non-null   float64\n",
      " 31  EFF_STK_4_Score                                         2139 non-null   float64\n",
      " 32  EFF_STK_5_Score                                         2139 non-null   float64\n",
      " 33  EFF_STK_6_Score                                         2139 non-null   float64\n",
      " 34  EFF_VTE_1_Score                                         2139 non-null   float64\n",
      " 35  EFF_VTE_2_Score                                         2139 non-null   float64\n",
      " 36  EFF_VTE_3_Score                                         2139 non-null   float64\n",
      " 37  EFF_VTE_5_Score                                         2139 non-null   float64\n",
      " 38  EFF_VTE_6_Score                                         2139 non-null   float64\n",
      " 39  EXP_H_CLEAN_STAR_RATING_Score                           2139 non-null   float64\n",
      " 40  EXP_H_COMP_1_STAR_RATING_Score                          2139 non-null   float64\n",
      " 41  EXP_H_COMP_2_STAR_RATING_Score                          2139 non-null   float64\n",
      " 42  EXP_H_COMP_3_STAR_RATING_Score                          2139 non-null   float64\n",
      " 43  EXP_H_COMP_4_STAR_RATING_Score                          2139 non-null   float64\n",
      " 44  EXP_H_COMP_5_STAR_RATING_Score                          2139 non-null   float64\n",
      " 45  EXP_H_COMP_6_STAR_RATING_Score                          2139 non-null   float64\n",
      " 46  EXP_H_COMP_7_STAR_RATING_Score                          2139 non-null   float64\n",
      " 47  EXP_H_HSP_RATING_STAR_RATING_Score                      2139 non-null   float64\n",
      " 48  EXP_H_QUIET_STAR_RATING_Score                           2139 non-null   float64\n",
      " 49  EXP_H_RECMND_STAR_RATING_Score                          2139 non-null   float64\n",
      " 50  EXP_H_STAR_RATING_Score                                 2139 non-null   float64\n",
      " 51  SAFETY_COMP_HIP_KNEE_Score                              2139 non-null   float64\n",
      " 52  SAFETY_PSI_12_POSTOP_PULMEMB_DVT_Score                  2139 non-null   float64\n",
      " 53  SAFETY_PSI_13_POST_SEPSIS_Score                         2139 non-null   float64\n",
      " 54  SAFETY_PSI_14_POSTOP_DEHIS_Score                        2139 non-null   float64\n",
      " 55  SAFETY_PSI_15_ACC_LAC_Score                             2139 non-null   float64\n",
      " 56  SAFETY_PSI_3_ULCER_Score                                2139 non-null   float64\n",
      " 57  SAFETY_PSI_4_SURG_COMP_Score                            2139 non-null   float64\n",
      " 58  SAFETY_PSI_6_IAT_PTX_Score                              2139 non-null   float64\n",
      " 59  SAFETY_PSI_7_CVCBI_Score                                2139 non-null   float64\n",
      " 60  SAFETY_PSI_90_SAFETY_Score                              2139 non-null   float64\n",
      " 61  SAFETY_HAI_1_SIR_Score                                  2139 non-null   float64\n",
      " 62  SAFETY_HAI_1a_SIR_Score                                 2139 non-null   float64\n",
      " 63  SAFETY_HAI_2_SIR_Score                                  2139 non-null   float64\n",
      " 64  SAFETY_HAI_2a_SIR_Score                                 2139 non-null   float64\n",
      " 65  SAFETY_HAI_3_SIR_Score                                  2139 non-null   float64\n",
      " 66  SAFETY_HAI_4_SIR_Score                                  2139 non-null   float64\n",
      " 67  SAFETY_HAI_5_SIR_Score                                  2139 non-null   float64\n",
      " 68  SAFETY_HAI_6_SIR_Score                                  2139 non-null   float64\n",
      " 69  MED_OP_10_Score                                         2139 non-null   float64\n",
      " 70  MED_OP_11_Score                                         2139 non-null   float64\n",
      " 71  MED_OP_13_Score                                         2139 non-null   float64\n",
      " 72  MED_OP_14_Score                                         2139 non-null   float64\n",
      " 73  MED_OP_8_Score                                          2139 non-null   float64\n",
      " 74  MED_OP_9_Score                                          2139 non-null   float64\n",
      " 75  Hospital Ownership_Government                           2139 non-null   uint8  \n",
      " 76  Hospital Ownership_Others                               2139 non-null   uint8  \n",
      " 77  Hospital Ownership_Voluntary                            2139 non-null   uint8  \n",
      " 78  Emergency Services_No                                   2139 non-null   uint8  \n",
      " 79  Emergency Services_Yes                                  2139 non-null   uint8  \n",
      " 80  Mortality national comparison_1                         2139 non-null   uint8  \n",
      " 81  Mortality national comparison_2                         2139 non-null   uint8  \n",
      " 82  Safety of care national comparison_1                    2139 non-null   uint8  \n",
      " 83  Safety of care national comparison_2                    2139 non-null   uint8  \n",
      " 84  Readmission national comparison_1                       2139 non-null   uint8  \n",
      " 85  Readmission national comparison_2                       2139 non-null   uint8  \n",
      " 86  Patient experience national comparison_1                2139 non-null   uint8  \n",
      " 87  Patient experience national comparison_2                2139 non-null   uint8  \n",
      " 88  Effectiveness of care national comparison_1             2139 non-null   uint8  \n",
      " 89  Effectiveness of care national comparison_2             2139 non-null   uint8  \n",
      " 90  Timeliness of care national comparison_1                2139 non-null   uint8  \n",
      " 91  Timeliness of care national comparison_2                2139 non-null   uint8  \n",
      " 92  Efficient use of medical imaging national comparison_1  2139 non-null   uint8  \n",
      " 93  Efficient use of medical imaging national comparison_2  2139 non-null   uint8  \n",
      "dtypes: float64(75), uint8(19)\n",
      "memory usage: 1.3 MB\n"
     ]
    }
   ],
   "source": [
    "X_train.info()"
   ]
  },
  {
   "cell_type": "code",
   "execution_count": null,
   "id": "13c735fc",
   "metadata": {
    "id": "13c735fc"
   },
   "outputs": [],
   "source": []
  },
  {
   "cell_type": "code",
   "execution_count": 31,
   "id": "fe22e3ef",
   "metadata": {
    "id": "fe22e3ef"
   },
   "outputs": [],
   "source": [
    "# Scale and standardize the numerical variables using StandardScaler\n",
    "from sklearn.preprocessing import StandardScaler\n",
    "scaler = StandardScaler()\n",
    "\n",
    "# Fit on training data and transform both training and test data\n",
    "X_train_scaled = scaler.fit_transform(X_train)\n",
    "X_test_scaled = scaler.transform(X_test)\n"
   ]
  },
  {
   "cell_type": "code",
   "execution_count": 32,
   "id": "180b9ac7",
   "metadata": {},
   "outputs": [],
   "source": [
    "##Model 1: Logistic Regression\n"
   ]
  },
  {
   "cell_type": "code",
   "execution_count": 33,
   "id": "7c3aa6ee",
   "metadata": {},
   "outputs": [
    {
     "name": "stdout",
     "output_type": "stream",
     "text": [
      "Logistic Regression Accuracy: 0.9629629629629629\n",
      "Classification Report:\n",
      "              precision    recall  f1-score   support\n",
      "\n",
      "           0       0.97      0.98      0.97       655\n",
      "           1       0.96      0.91      0.93       263\n",
      "\n",
      "    accuracy                           0.96       918\n",
      "   macro avg       0.96      0.95      0.95       918\n",
      "weighted avg       0.96      0.96      0.96       918\n",
      "\n"
     ]
    }
   ],
   "source": [
    "from sklearn.linear_model import LogisticRegression\n",
    "from sklearn.metrics import accuracy_score, classification_report\n",
    "\n",
    "# Initialize the Logistic Regression model\n",
    "logreg_model = LogisticRegression(random_state=0)\n",
    "\n",
    "# Fit the model on the scaled training data\n",
    "logreg_model.fit(X_train_scaled, y_train)\n",
    "\n",
    "# Predictions on the test set\n",
    "y_pred_logreg = logreg_model.predict(X_test_scaled)\n",
    "\n",
    "# Evaluate the model\n",
    "accuracy_logreg = accuracy_score(y_test, y_pred_logreg)\n",
    "print(\"Logistic Regression Accuracy:\", accuracy_logreg)\n",
    "\n",
    "# Additional metrics\n",
    "print(\"Classification Report:\")\n",
    "print(classification_report(y_test, y_pred_logreg))\n"
   ]
  },
  {
   "cell_type": "code",
   "execution_count": 34,
   "id": "02d84c39",
   "metadata": {},
   "outputs": [],
   "source": [
    "##Model 2: k-Nearest Neighbors (k-NN)\n"
   ]
  },
  {
   "cell_type": "code",
   "execution_count": 35,
   "id": "d52a2a0c",
   "metadata": {},
   "outputs": [
    {
     "name": "stdout",
     "output_type": "stream",
     "text": [
      "k-NN Accuracy: 0.8594771241830066\n",
      "Classification Report:\n",
      "              precision    recall  f1-score   support\n",
      "\n",
      "           0       0.89      0.92      0.90       655\n",
      "           1       0.77      0.72      0.75       263\n",
      "\n",
      "    accuracy                           0.86       918\n",
      "   macro avg       0.83      0.82      0.82       918\n",
      "weighted avg       0.86      0.86      0.86       918\n",
      "\n"
     ]
    }
   ],
   "source": [
    "from sklearn.neighbors import KNeighborsClassifier\n",
    "\n",
    "# Initialize the k-NN model\n",
    "knn_model = KNeighborsClassifier(n_neighbors=5)\n",
    "\n",
    "# Fit the model on the scaled training data\n",
    "knn_model.fit(X_train_scaled, y_train)\n",
    "\n",
    "# Predictions on the test set\n",
    "y_pred_knn = knn_model.predict(X_test_scaled)\n",
    "\n",
    "# Evaluate the model\n",
    "accuracy_knn = accuracy_score(y_test, y_pred_knn)\n",
    "print(\"k-NN Accuracy:\", accuracy_knn)\n",
    "\n",
    "# Additional metrics\n",
    "print(\"Classification Report:\")\n",
    "print(classification_report(y_test, y_pred_knn))\n"
   ]
  },
  {
   "cell_type": "code",
   "execution_count": 36,
   "id": "0de551b9",
   "metadata": {},
   "outputs": [],
   "source": [
    "##Model 3: Decision Tree\n"
   ]
  },
  {
   "cell_type": "code",
   "execution_count": 37,
   "id": "f8266eea",
   "metadata": {},
   "outputs": [
    {
     "name": "stdout",
     "output_type": "stream",
     "text": [
      "Decision Tree Accuracy: 0.8311546840958606\n",
      "Classification Report:\n",
      "              precision    recall  f1-score   support\n",
      "\n",
      "           0       0.87      0.90      0.88       655\n",
      "           1       0.73      0.65      0.69       263\n",
      "\n",
      "    accuracy                           0.83       918\n",
      "   macro avg       0.80      0.78      0.79       918\n",
      "weighted avg       0.83      0.83      0.83       918\n",
      "\n"
     ]
    }
   ],
   "source": [
    "from sklearn.tree import DecisionTreeClassifier\n",
    "\n",
    "# Initialize the Decision Tree model\n",
    "dt_model = DecisionTreeClassifier(random_state=0)\n",
    "\n",
    "# Fit the model on the training data\n",
    "dt_model.fit(X_train_scaled, y_train)\n",
    "\n",
    "# Predictions on the test set\n",
    "y_pred_dt = dt_model.predict(X_test_scaled)\n",
    "\n",
    "# Evaluate the model\n",
    "accuracy_dt = accuracy_score(y_test, y_pred_dt)\n",
    "print(\"Decision Tree Accuracy:\", accuracy_dt)\n",
    "\n",
    "# Additional metrics\n",
    "print(\"Classification Report:\")\n",
    "print(classification_report(y_test, y_pred_dt))\n"
   ]
  },
  {
   "cell_type": "markdown",
   "id": "b9245b04",
   "metadata": {
    "id": "b9245b04"
   },
   "source": [
    "#####  Model building and evaluation\n",
    "\n",
    "You have learned multiple classification models till now, such as logistic regression, k-NN and decision trees. You should choose 3 of the models for performing the tasks in this section. You can follow the below steps:\n",
    "\n",
    "\n",
    "- Build the models and fit it on training data\n",
    "- Perform classifications on the validation data\n",
    "- Compute and tabulate the validation accuracies for the different models\n",
    "- Compare the accuracies for the different models and choose the best model\n",
    "\n",
    "**Note** - You can also evaluate your models using additional metrics like `F1 score`, `Sensitivity`,`Specificity` , etc.\n",
    "\n",
    "\n",
    "**Helpful Resource** - For writing precise code for this section, you can refer to the code you learned in Model Selection Lab Session in the `kNN and Model Selection` module.\n",
    "\n",
    "\n"
   ]
  },
  {
   "cell_type": "markdown",
   "id": "2e2962ab",
   "metadata": {
    "id": "2e2962ab"
   },
   "source": [
    "- Additional notes\n",
    "  - You can peform additional tasks like building ROC/AUC curves for all the models and identifying an optimal cut-off\n",
    "  - You can also build conjectures around some arbitrary metric cut-offs. For example, say you want to build a model which has atleast 50% accuracy, specificity and sensitivity. Use these conjectures to arrive at a final model\n",
    "  - Note that there is no right answer for this particular question. You will be awarded marks as long as your overall approach is correct"
   ]
  },
  {
   "cell_type": "markdown",
   "id": "89529433",
   "metadata": {
    "id": "89529433"
   },
   "source": [
    "### Task 3 \n",
    "\n",
    "You have now built (at least) three machine learning models. Choose the best model according to your metrics and provide the following recommendations\n",
    "-  Hospital Rating Predictor: Using the best model of your choice, predict the ratings of a few new hospitals which are yet to be assigned a rating by CMS. The information for these hospitals has been provided in a separate CSV file named 'not_yet_rated.csv'.\n",
    "- Hospital Improvement Plan: Let's say a few of the hospitals were rated low (0) by the model that you chose. Provide recommendations on how these hospitals can improve their ratings"
   ]
  },
  {
   "cell_type": "code",
   "execution_count": null,
   "id": "16233565",
   "metadata": {
    "id": "16233565"
   },
   "outputs": [],
   "source": []
  },
  {
   "cell_type": "code",
   "execution_count": null,
   "id": "9757f01d",
   "metadata": {
    "id": "9757f01d",
    "scrolled": true
   },
   "outputs": [],
   "source": []
  },
  {
   "cell_type": "markdown",
   "id": "86183754",
   "metadata": {
    "id": "86183754"
   },
   "source": [
    "### Approach to predict ratings\n",
    "- Perform the exact same data preparation steps as earlier\n",
    "   - Drop the unnecessary columns\n",
    "   - Convert the datatypes of categorical variables and create dummies\n",
    "   - Standardize the numeric columns\n",
    "- After that we shall use the `.predict()` method of your ML model to predict the ratings"
   ]
  },
  {
   "cell_type": "code",
   "execution_count": null,
   "id": "b8707390",
   "metadata": {
    "scrolled": true
   },
   "outputs": [],
   "source": []
  },
  {
   "cell_type": "code",
   "execution_count": 85,
   "id": "21172e5c",
   "metadata": {},
   "outputs": [
    {
     "ename": "ValueError",
     "evalue": "X has 76 features, but LogisticRegression is expecting 94 features as input.",
     "output_type": "error",
     "traceback": [
      "\u001b[1;31m---------------------------------------------------------------------------\u001b[0m",
      "\u001b[1;31mValueError\u001b[0m                                Traceback (most recent call last)",
      "Cell \u001b[1;32mIn[85], line 68\u001b[0m\n\u001b[0;32m     65\u001b[0m logreg_model\u001b[38;5;241m.\u001b[39mfit(X_train_scaled, y_train)\n\u001b[0;32m     67\u001b[0m \u001b[38;5;66;03m# Predictions on the new hospitals\u001b[39;00m\n\u001b[1;32m---> 68\u001b[0m predicted_ratings \u001b[38;5;241m=\u001b[39m \u001b[43mlogreg_model\u001b[49m\u001b[38;5;241;43m.\u001b[39;49m\u001b[43mpredict\u001b[49m\u001b[43m(\u001b[49m\u001b[43mnew_hospitals\u001b[49m\u001b[43m)\u001b[49m\n\u001b[0;32m     70\u001b[0m \u001b[38;5;66;03m# Add the predicted ratings to the new_hospitals dataframe\u001b[39;00m\n\u001b[0;32m     71\u001b[0m new_hospitals[\u001b[38;5;124m'\u001b[39m\u001b[38;5;124mPredicted Rating\u001b[39m\u001b[38;5;124m'\u001b[39m] \u001b[38;5;241m=\u001b[39m predicted_ratings\n",
      "File \u001b[1;32m~\\AppData\\Local\\anaconda3\\lib\\site-packages\\sklearn\\linear_model\\_base.py:419\u001b[0m, in \u001b[0;36mLinearClassifierMixin.predict\u001b[1;34m(self, X)\u001b[0m\n\u001b[0;32m    405\u001b[0m \u001b[38;5;124;03m\"\"\"\u001b[39;00m\n\u001b[0;32m    406\u001b[0m \u001b[38;5;124;03mPredict class labels for samples in X.\u001b[39;00m\n\u001b[0;32m    407\u001b[0m \n\u001b[1;32m   (...)\u001b[0m\n\u001b[0;32m    416\u001b[0m \u001b[38;5;124;03m    Vector containing the class labels for each sample.\u001b[39;00m\n\u001b[0;32m    417\u001b[0m \u001b[38;5;124;03m\"\"\"\u001b[39;00m\n\u001b[0;32m    418\u001b[0m xp, _ \u001b[38;5;241m=\u001b[39m get_namespace(X)\n\u001b[1;32m--> 419\u001b[0m scores \u001b[38;5;241m=\u001b[39m \u001b[38;5;28;43mself\u001b[39;49m\u001b[38;5;241;43m.\u001b[39;49m\u001b[43mdecision_function\u001b[49m\u001b[43m(\u001b[49m\u001b[43mX\u001b[49m\u001b[43m)\u001b[49m\n\u001b[0;32m    420\u001b[0m \u001b[38;5;28;01mif\u001b[39;00m \u001b[38;5;28mlen\u001b[39m(scores\u001b[38;5;241m.\u001b[39mshape) \u001b[38;5;241m==\u001b[39m \u001b[38;5;241m1\u001b[39m:\n\u001b[0;32m    421\u001b[0m     indices \u001b[38;5;241m=\u001b[39m xp\u001b[38;5;241m.\u001b[39mastype(scores \u001b[38;5;241m>\u001b[39m \u001b[38;5;241m0\u001b[39m, \u001b[38;5;28mint\u001b[39m)\n",
      "File \u001b[1;32m~\\AppData\\Local\\anaconda3\\lib\\site-packages\\sklearn\\linear_model\\_base.py:400\u001b[0m, in \u001b[0;36mLinearClassifierMixin.decision_function\u001b[1;34m(self, X)\u001b[0m\n\u001b[0;32m    397\u001b[0m check_is_fitted(\u001b[38;5;28mself\u001b[39m)\n\u001b[0;32m    398\u001b[0m xp, _ \u001b[38;5;241m=\u001b[39m get_namespace(X)\n\u001b[1;32m--> 400\u001b[0m X \u001b[38;5;241m=\u001b[39m \u001b[38;5;28;43mself\u001b[39;49m\u001b[38;5;241;43m.\u001b[39;49m\u001b[43m_validate_data\u001b[49m\u001b[43m(\u001b[49m\u001b[43mX\u001b[49m\u001b[43m,\u001b[49m\u001b[43m \u001b[49m\u001b[43maccept_sparse\u001b[49m\u001b[38;5;241;43m=\u001b[39;49m\u001b[38;5;124;43m\"\u001b[39;49m\u001b[38;5;124;43mcsr\u001b[39;49m\u001b[38;5;124;43m\"\u001b[39;49m\u001b[43m,\u001b[49m\u001b[43m \u001b[49m\u001b[43mreset\u001b[49m\u001b[38;5;241;43m=\u001b[39;49m\u001b[38;5;28;43;01mFalse\u001b[39;49;00m\u001b[43m)\u001b[49m\n\u001b[0;32m    401\u001b[0m scores \u001b[38;5;241m=\u001b[39m safe_sparse_dot(X, \u001b[38;5;28mself\u001b[39m\u001b[38;5;241m.\u001b[39mcoef_\u001b[38;5;241m.\u001b[39mT, dense_output\u001b[38;5;241m=\u001b[39m\u001b[38;5;28;01mTrue\u001b[39;00m) \u001b[38;5;241m+\u001b[39m \u001b[38;5;28mself\u001b[39m\u001b[38;5;241m.\u001b[39mintercept_\n\u001b[0;32m    402\u001b[0m \u001b[38;5;28;01mreturn\u001b[39;00m xp\u001b[38;5;241m.\u001b[39mreshape(scores, \u001b[38;5;241m-\u001b[39m\u001b[38;5;241m1\u001b[39m) \u001b[38;5;28;01mif\u001b[39;00m scores\u001b[38;5;241m.\u001b[39mshape[\u001b[38;5;241m1\u001b[39m] \u001b[38;5;241m==\u001b[39m \u001b[38;5;241m1\u001b[39m \u001b[38;5;28;01melse\u001b[39;00m scores\n",
      "File \u001b[1;32m~\\AppData\\Local\\anaconda3\\lib\\site-packages\\sklearn\\base.py:569\u001b[0m, in \u001b[0;36mBaseEstimator._validate_data\u001b[1;34m(self, X, y, reset, validate_separately, **check_params)\u001b[0m\n\u001b[0;32m    566\u001b[0m     out \u001b[38;5;241m=\u001b[39m X, y\n\u001b[0;32m    568\u001b[0m \u001b[38;5;28;01mif\u001b[39;00m \u001b[38;5;129;01mnot\u001b[39;00m no_val_X \u001b[38;5;129;01mand\u001b[39;00m check_params\u001b[38;5;241m.\u001b[39mget(\u001b[38;5;124m\"\u001b[39m\u001b[38;5;124mensure_2d\u001b[39m\u001b[38;5;124m\"\u001b[39m, \u001b[38;5;28;01mTrue\u001b[39;00m):\n\u001b[1;32m--> 569\u001b[0m     \u001b[38;5;28;43mself\u001b[39;49m\u001b[38;5;241;43m.\u001b[39;49m\u001b[43m_check_n_features\u001b[49m\u001b[43m(\u001b[49m\u001b[43mX\u001b[49m\u001b[43m,\u001b[49m\u001b[43m \u001b[49m\u001b[43mreset\u001b[49m\u001b[38;5;241;43m=\u001b[39;49m\u001b[43mreset\u001b[49m\u001b[43m)\u001b[49m\n\u001b[0;32m    571\u001b[0m \u001b[38;5;28;01mreturn\u001b[39;00m out\n",
      "File \u001b[1;32m~\\AppData\\Local\\anaconda3\\lib\\site-packages\\sklearn\\base.py:370\u001b[0m, in \u001b[0;36mBaseEstimator._check_n_features\u001b[1;34m(self, X, reset)\u001b[0m\n\u001b[0;32m    367\u001b[0m     \u001b[38;5;28;01mreturn\u001b[39;00m\n\u001b[0;32m    369\u001b[0m \u001b[38;5;28;01mif\u001b[39;00m n_features \u001b[38;5;241m!=\u001b[39m \u001b[38;5;28mself\u001b[39m\u001b[38;5;241m.\u001b[39mn_features_in_:\n\u001b[1;32m--> 370\u001b[0m     \u001b[38;5;28;01mraise\u001b[39;00m \u001b[38;5;167;01mValueError\u001b[39;00m(\n\u001b[0;32m    371\u001b[0m         \u001b[38;5;124mf\u001b[39m\u001b[38;5;124m\"\u001b[39m\u001b[38;5;124mX has \u001b[39m\u001b[38;5;132;01m{\u001b[39;00mn_features\u001b[38;5;132;01m}\u001b[39;00m\u001b[38;5;124m features, but \u001b[39m\u001b[38;5;132;01m{\u001b[39;00m\u001b[38;5;28mself\u001b[39m\u001b[38;5;241m.\u001b[39m\u001b[38;5;18m__class__\u001b[39m\u001b[38;5;241m.\u001b[39m\u001b[38;5;18m__name__\u001b[39m\u001b[38;5;132;01m}\u001b[39;00m\u001b[38;5;124m \u001b[39m\u001b[38;5;124m\"\u001b[39m\n\u001b[0;32m    372\u001b[0m         \u001b[38;5;124mf\u001b[39m\u001b[38;5;124m\"\u001b[39m\u001b[38;5;124mis expecting \u001b[39m\u001b[38;5;132;01m{\u001b[39;00m\u001b[38;5;28mself\u001b[39m\u001b[38;5;241m.\u001b[39mn_features_in_\u001b[38;5;132;01m}\u001b[39;00m\u001b[38;5;124m features as input.\u001b[39m\u001b[38;5;124m\"\u001b[39m\n\u001b[0;32m    373\u001b[0m     )\n",
      "\u001b[1;31mValueError\u001b[0m: X has 76 features, but LogisticRegression is expecting 94 features as input."
     ]
    }
   ],
   "source": [
    "import pandas as pd\n",
    "from sklearn.preprocessing import StandardScaler\n",
    "from sklearn.linear_model import LogisticRegression\n",
    "\n",
    "# Load the 'not_yet_rated' dataset\n",
    "new_hospitals = pd.read_csv('not_yet_rated.csv')\n",
    "\n",
    "\n",
    "# Define the columns to drop\n",
    "demo_features = ['Provider ID', 'Hospital Ownership', 'Emergency Services',\n",
    "                 'Mortality national comparison', 'Safety of care national comparison',\n",
    "                 'Readmission national comparison', 'Patient experience national comparison',\n",
    "                 'Effectiveness of care national comparison', 'Timeliness of care national comparison',\n",
    "                 'Efficient use of medical imaging national comparison']\n",
    "\n",
    "# Check if the columns exist before dropping them\n",
    "columns_to_drop = [col for col in demo_features if col in new_hospitals.columns]\n",
    "new_hospitals.drop(columns_to_drop, axis=1, inplace=True)\n",
    "\n",
    "# Map the ratings if the 'Hospital overall rating' column is present\n",
    "if 'Hospital overall rating' in new_hospitals.columns:\n",
    "    new_hospitals['Hospital overall rating'] = new_hospitals['Hospital overall rating'].map(lambda x: 0 if x in [1, 2, 3] else 1)\n",
    "\n",
    "# Load the original training data\n",
    "original_training_data = pd.read_csv('hospital-info.csv')\n",
    "\n",
    "# Columns to drop\n",
    "columns_to_drop = ['Hospital Name', 'Address', 'City', 'State', 'ZIP Code', 'County Name', 'Phone Number', 'Hospital overall rating']\n",
    "\n",
    "# Drop the specified columns\n",
    "original_training_data.drop(columns_to_drop, axis=1, inplace=True)\n",
    "\n",
    "\n",
    "# Find common columns\n",
    "common_columns = set(original_training_data.columns) & set(new_hospitals.columns)\n",
    "\n",
    "# Select only the common columns in both datasets\n",
    "original_training_data = original_training_data[common_columns]\n",
    "new_hospitals = new_hospitals[common_columns]\n",
    "\n",
    "# Add missing columns to the new dataset\n",
    "missing_columns = set(original_training_data.columns) - set(new_hospitals.columns)\n",
    "for col in missing_columns:\n",
    "    new_hospitals[col] = 0  # You can use 0 as a default value or any other appropriate value\n",
    "\n",
    "\n",
    "    \n",
    "\n",
    "    \n",
    "    \n",
    "    \n",
    "# Ensure the new dataset has the same features as the model was trained on\n",
    "new_hospitals = new_hospitals[original_training_data.columns]\n",
    "\n",
    "\n",
    "\n",
    "\n",
    "# Standardize the numerical variables using the same scaler\n",
    "numerical_columns = new_hospitals.select_dtypes(include=['float64']).columns\n",
    "scaler = StandardScaler()\n",
    "new_hospitals[numerical_columns] = scaler.fit_transform(new_hospitals[numerical_columns])\n",
    "\n",
    "# Initialize and fit the Logistic Regression model on the extended dataset\n",
    "logreg_model = LogisticRegression(random_state=0)\n",
    "logreg_model.fit(X_train_scaled, y_train)\n",
    "\n",
    "# Predictions on the new hospitals\n",
    "predicted_ratings = logreg_model.predict(new_hospitals)\n",
    "\n",
    "# Add the predicted ratings to the new_hospitals dataframe\n",
    "new_hospitals['Predicted Rating'] = predicted_ratings\n",
    "\n",
    "# Display the predictions\n",
    "print(\"Predicted Ratings for New Hospitals:\")\n",
    "print(new_hospitals[['Hospital ID', 'Predicted Rating']])\n",
    "\n",
    "# Recommendations for improvement plan for hospitals with low ratings\n",
    "low_rated_hospitals = new_hospitals[new_hospitals['Predicted Rating'] == 0]\n",
    "print(\"\\nRecommendations for Hospitals with Low Ratings:\")\n",
    "for index, row in low_rated_hospitals.iterrows():\n",
    "    print(f\"\\nHospital ID: {row['Hospital ID']}\")\n",
    "    print(\"Recommendations:\")\n",
    "    # Provide specific recommendations for improvement based on the features in the dataset\n",
    "    # You can customize this based on your dataset and domain knowledge\n",
    "    # Example: \"Focus on improving patient experience and timeliness of care.\"\n"
   ]
  },
  {
   "cell_type": "code",
   "execution_count": null,
   "id": "8a333908",
   "metadata": {
    "scrolled": true
   },
   "outputs": [],
   "source": []
  },
  {
   "cell_type": "code",
   "execution_count": null,
   "id": "4b264cff",
   "metadata": {
    "scrolled": true
   },
   "outputs": [],
   "source": []
  },
  {
   "cell_type": "code",
   "execution_count": null,
   "id": "5f6fbabc",
   "metadata": {},
   "outputs": [],
   "source": []
  },
  {
   "cell_type": "code",
   "execution_count": null,
   "id": "74c67b4f",
   "metadata": {},
   "outputs": [],
   "source": []
  },
  {
   "cell_type": "code",
   "execution_count": null,
   "id": "144fd1cb",
   "metadata": {},
   "outputs": [],
   "source": []
  },
  {
   "cell_type": "code",
   "execution_count": null,
   "id": "faaa8519",
   "metadata": {},
   "outputs": [],
   "source": []
  },
  {
   "cell_type": "code",
   "execution_count": null,
   "id": "c31e08e1",
   "metadata": {},
   "outputs": [],
   "source": []
  },
  {
   "cell_type": "code",
   "execution_count": null,
   "id": "f34d72ed",
   "metadata": {},
   "outputs": [],
   "source": []
  },
  {
   "cell_type": "code",
   "execution_count": null,
   "id": "78b03597",
   "metadata": {},
   "outputs": [],
   "source": []
  },
  {
   "cell_type": "code",
   "execution_count": null,
   "id": "0032d4a9",
   "metadata": {},
   "outputs": [],
   "source": []
  },
  {
   "cell_type": "code",
   "execution_count": null,
   "id": "e3776e08",
   "metadata": {},
   "outputs": [],
   "source": []
  },
  {
   "cell_type": "markdown",
   "id": "6ff6e542",
   "metadata": {
    "id": "6ff6e542"
   },
   "source": [
    "### Approach to identify areas of improvement\n",
    "\n",
    "- Identify the measures which have a positive influence on the overall hospital ratings. For example,\n",
    "    - if you're using a logistic regression model, you can check the coefficients\n",
    "        - A +ve coefficient indicates +ve influence on the overall hospital rating\n",
    "        - A -ve coefficient indicates -ve influence on the overall hospital rating\n",
    "- Identify in which of the above measures a low-rated hospital is currently lagging behind. These measures need to be improved.\n",
    "- Further deep dive into the sub-measures using the same approach as above. "
   ]
  },
  {
   "cell_type": "code",
   "execution_count": null,
   "id": "ad7ad1aa",
   "metadata": {
    "id": "ad7ad1aa"
   },
   "outputs": [],
   "source": []
  }
 ],
 "metadata": {
  "colab": {
   "provenance": []
  },
  "kernelspec": {
   "display_name": "Python 3 (ipykernel)",
   "language": "python",
   "name": "python3"
  },
  "language_info": {
   "codemirror_mode": {
    "name": "ipython",
    "version": 3
   },
   "file_extension": ".py",
   "mimetype": "text/x-python",
   "name": "python",
   "nbconvert_exporter": "python",
   "pygments_lexer": "ipython3",
   "version": "3.10.9"
  }
 },
 "nbformat": 4,
 "nbformat_minor": 5
}
